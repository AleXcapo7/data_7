{
 "cells": [
  {
   "cell_type": "code",
   "execution_count": 23,
   "metadata": {},
   "outputs": [],
   "source": [
    "def check_palindrome(word):\n",
    "    word = str(word).lower()\n",
    "    if word[::-1]==word:\n",
    "        print(f\"{word} è palindromo\") \n",
    "    else:\n",
    "        print(word +' Non è palindromo')\n",
    "\n",
    "\n"
   ]
  },
  {
   "cell_type": "code",
   "execution_count": 24,
   "metadata": {},
   "outputs": [
    {
     "name": "stdout",
     "output_type": "stream",
     "text": [
      "1551 è palindromo\n"
     ]
    }
   ],
   "source": [
    "check_palindrome(1551)"
   ]
  },
  {
   "cell_type": "code",
   "execution_count": 147,
   "metadata": {},
   "outputs": [
    {
     "name": "stdout",
     "output_type": "stream",
     "text": [
      "45 è sbagliato, scusa riprova\n",
      "78 è sbagliato, scusa riprova\n",
      "Hai indovinato il mio numero segreto 21\n"
     ]
    }
   ],
   "source": [
    "segreto = 21\n",
    "tentativo = 1 \n",
    "while tentativo <= 3:\n",
    "    domanda = int(input('Indovina numero segreto'))\n",
    "    if domanda == segreto:\n",
    "        print(f'Hai indovinato il mio numero segreto {domanda}')\n",
    "        break\n",
    "    else:\n",
    "        print(f'{domanda} è sbagliato, scusa riprova')\n",
    "    tentativo += 1\n",
    "else:\n",
    "    print('Finito i tentavivi')"
   ]
  },
  {
   "cell_type": "code",
   "execution_count": 130,
   "metadata": {},
   "outputs": [
    {
     "name": "stdout",
     "output_type": "stream",
     "text": [
      "89 è numero, perfetto\n"
     ]
    }
   ],
   "source": [
    "x = input('Richiesta numero: ')\n",
    "if x.isdigit():\n",
    "    print(x+' è numero, perfetto')\n",
    "elif x.isalnum:\n",
    "    print(x+' è alfanumerico, non va bene')"
   ]
  },
  {
   "cell_type": "code",
   "execution_count": 179,
   "metadata": {},
   "outputs": [
    {
     "name": "stdout",
     "output_type": "stream",
     "text": [
      "The name chosen is: Frkekpewoksksp\n",
      " Your new unique username is: Fp\n",
      "With unique code is: ewo\n",
      "Welcome Sir/Madame Frkekpewoksksp, ask anything! I will help you.\n",
      "Length too long for the imposed standards: 14\n"
     ]
    }
   ],
   "source": [
    "name = input('Insert your name: ')\n",
    "print(f'The name chosen is: {name}')\n",
    "unique_username = name[0] + name[-1]\n",
    "print(f' Your new unique username is: {unique_username}')\n",
    "length = len(name)\n",
    "middle = length // 2 \n",
    "if length >= 3:\n",
    "    code = name[middle - 1: middle +2]\n",
    "else:\n",
    "    code = name\n",
    "print(f'With unique code is: {code}')\n",
    "message = f'Welcome Sir/Madame {name}, ask anything! I will help you.'\n",
    "print(message)\n",
    "length = len(name)\n",
    "if length <= 11:\n",
    "    print(f'correct length: {length}')\n",
    "else:\n",
    "    print(f'Length too long for the imposed standards: {length}')"
   ]
  },
  {
   "cell_type": "code",
   "execution_count": 180,
   "metadata": {},
   "outputs": [
    {
     "name": "stdout",
     "output_type": "stream",
     "text": [
      "Today's highlighted word is SKY\n"
     ]
    }
   ],
   "source": [
    "quote = 'The sky is blue'\n",
    "extraction = quote[4:7]\n",
    "extraction = extraction.upper()\n",
    "sentence = f'Today\\'s highlighted word is {extraction}'\n",
    "print(sentence)\n",
    "\n"
   ]
  },
  {
   "cell_type": "code",
   "execution_count": 181,
   "metadata": {},
   "outputs": [
    {
     "name": "stdout",
     "output_type": "stream",
     "text": [
      "Calculating remainder: 1\n"
     ]
    }
   ],
   "source": [
    "apple_totals = 5 \n",
    "students = 2 \n",
    "remainder = apple_totals % students \n",
    "print(f'Calculating remainder: {remainder}')"
   ]
  },
  {
   "cell_type": "code",
   "execution_count": 186,
   "metadata": {},
   "outputs": [
    {
     "name": "stdout",
     "output_type": "stream",
     "text": [
      "Confirmed Access\n"
     ]
    }
   ],
   "source": [
    "first_name = 'Mario'\n",
    "last_name = 'Smih'\n",
    "if first_name == 'Mario' and last_name == 'Smith':\n",
    "    print(f'Denied Access because your credentials are {first_name} and {last_name}')\n",
    "else:\n",
    "    print('Confirmed Access')"
   ]
  },
  {
   "cell_type": "code",
   "execution_count": 193,
   "metadata": {},
   "outputs": [
    {
     "name": "stdout",
     "output_type": "stream",
     "text": [
      "Confirmed Access, welcome Mario Johnson\n",
      "False\n"
     ]
    }
   ],
   "source": [
    "first_name = 'Mario'\n",
    "last_name = 'Johnson'\n",
    "if first_name == 'Mario' and last_name == 'Smith':\n",
    "    print(f'Denied Access because your credentials are {first_name} and {last_name}')\n",
    "else:\n",
    "    print(f'Confirmed Access, welcome {first_name} {last_name}')\n",
    "print(not(first_name == 'Mario' or last_name == 'Smith'))\n"
   ]
  },
  {
   "cell_type": "code",
   "execution_count": 11,
   "metadata": {},
   "outputs": [
    {
     "name": "stdout",
     "output_type": "stream",
     "text": [
      "Can you drive? : True\n"
     ]
    }
   ],
   "source": [
    "ask_age = int(input('Tell me your age ... '))\n",
    "ask_license = input('Have you got license? (yes/no): ').lower() == 'yes'\n",
    "drive_car = ask_age >= 18 and ask_license\n",
    "print(f'Can you drive? : {drive_car}')\n"
   ]
  },
  {
   "cell_type": "code",
   "execution_count": 17,
   "metadata": {},
   "outputs": [
    {
     "name": "stdout",
     "output_type": "stream",
     "text": [
      "The result is: 136\n"
     ]
    }
   ],
   "source": [
    "ip_address = int(input('Insert IP address (between 0 and 255)'))\n",
    "subnet_mask = int(input('Insert Subnet mask (between 0 and 255'))\n",
    "result = ip_address & subnet_mask\n",
    "print(f'The result is: {result}')"
   ]
  },
  {
   "cell_type": "code",
   "execution_count": 21,
   "metadata": {},
   "outputs": [
    {
     "name": "stdout",
     "output_type": "stream",
     "text": [
      "Total number: 7\n",
      "Remaining lives : 5\n",
      "The total is : 15\n",
      "Each team has: 4 students\n"
     ]
    }
   ],
   "source": [
    "a = 3\n",
    "b = 4\n",
    "total_number_items = a + b \n",
    "print(f'Total number: {total_number_items}')\n",
    "\n",
    "x = 7 \n",
    "y = 2 \n",
    "remaining_lives = x - y\n",
    "print(f'Remaining lives : {remaining_lives}')\n",
    "\n",
    "p = 5 \n",
    "q = 3 \n",
    "total_cost = p * q \n",
    "print(f'The total is : {total_cost}')\n",
    "\n",
    "m = 8 \n",
    "n = 2 \n",
    "total_for_team = m / n \n",
    "print(f'Each team has: {round(total_for_team)} students')\n",
    "\n"
   ]
  },
  {
   "cell_type": "code",
   "execution_count": 25,
   "metadata": {},
   "outputs": [
    {
     "name": "stdout",
     "output_type": "stream",
     "text": [
      "Integer of dividing is 1\n",
      "Family packages: 3\n",
      "Remainder of dividing: 1\n",
      "The sum of each number in list [3, 5, 7, 9, 11] is: 35\n",
      "The average in [83, 85, 72, 63, 95] is: 79.6\n",
      "Lowest price is 5\n",
      "Highest price is 25\n"
     ]
    }
   ],
   "source": [
    "b = 4 \n",
    "a = 3\n",
    "integer_dividing = b // a \n",
    "print(f'Integer of dividing is {integer_dividing}')\n",
    "family_pack = min(b,a)\n",
    "remainder_dividing = b % a \n",
    "print(f'Family packages: {family_pack}')\n",
    "print(f'Remainder of dividing: {remainder_dividing}')\n",
    "\n",
    "list_of_numbers = [3,5,7,9,11]\n",
    "calculating = sum(list_of_numbers)\n",
    "print(f'The sum of each number in list {list_of_numbers} is: {calculating}')\n",
    "\n",
    "list_of_grades = [83,85,72,63,95]\n",
    "calculating2 = sum(list_of_grades) / len(list_of_grades)\n",
    "print(f'The average in {list_of_grades} is: {calculating2}')\n",
    "\n",
    "list_prices = [5,10,15,20,25]\n",
    "lowest_price = min(list_prices)\n",
    "highest_price = max(list_prices)\n",
    "print(f'Lowest price is {lowest_price}')\n",
    "print(f'Highest price is {highest_price}')"
   ]
  },
  {
   "cell_type": "code",
   "execution_count": 27,
   "metadata": {},
   "outputs": [
    {
     "name": "stdout",
     "output_type": "stream",
     "text": [
      "Total vowels are: 11\n"
     ]
    }
   ],
   "source": [
    "sentence = 'The quick brown fox jumps over the lazy dog'\n",
    "vowels = 'aeiouAEIOU'\n",
    "i = 0\n",
    "for letter in sentence:\n",
    "    if letter in vowels:\n",
    "        i += 1\n",
    "print(f'Total vowels are: {i}')\n"
   ]
  },
  {
   "cell_type": "code",
   "execution_count": 36,
   "metadata": {},
   "outputs": [
    {
     "name": "stdout",
     "output_type": "stream",
     "text": [
      "List of numbers is : [1, 3, 5]\n",
      "List of names is : ['apple', 'banana', 'cherry']\n"
     ]
    }
   ],
   "source": [
    "mixed_list = [1,'apple',3,'banana',5,'cherry']\n",
    "list_of_numbers = []\n",
    "list_of_names = []\n",
    "for i in mixed_list:\n",
    "    if type(i) == int:\n",
    "        list_of_numbers.append(i)\n",
    "    else:\n",
    "        list_of_names.append(i)\n",
    "print(f'List of numbers is : {list_of_numbers}')\n",
    "print(f'List of names is : {list_of_names}')\n"
   ]
  },
  {
   "cell_type": "code",
   "execution_count": 41,
   "metadata": {},
   "outputs": [
    {
     "name": "stdout",
     "output_type": "stream",
     "text": [
      "Initial Price : 14.99 tipo :<class 'float'>\n",
      "New integer Price: 14 tipo: <class 'int'>\n",
      "New string Price : 14 tipo: <class 'str'>\n"
     ]
    }
   ],
   "source": [
    "price = 14.99\n",
    "new_int_price = int(price)\n",
    "new_str_price = str(new_int_price)\n",
    "print(f'Initial Price : {price} tipo :{type(price)}')\n",
    "print(f'New integer Price: {new_int_price} tipo: {type(new_int_price)}')\n",
    "print(f'New string Price : {new_str_price} tipo: {type(new_str_price)}')"
   ]
  },
  {
   "cell_type": "code",
   "execution_count": 67,
   "metadata": {},
   "outputs": [
    {
     "name": "stdout",
     "output_type": "stream",
     "text": [
      "48.87\n",
      "First amount is : 48.867 and the second amount is : 48.87\n"
     ]
    }
   ],
   "source": [
    "amount_in_usd = 48.867\n",
    "display_amount = round(amount_in_usd,2)\n",
    "print(display_amount)\n",
    "print(f'First amount is : {amount_in_usd} and the second amount is : {display_amount}')"
   ]
  },
  {
   "cell_type": "code",
   "execution_count": 74,
   "metadata": {},
   "outputs": [
    {
     "name": "stdout",
     "output_type": "stream",
     "text": [
      "Voto fuori range: 101\n"
     ]
    }
   ],
   "source": [
    "vote = int(input('Insert your vote here: '))\n",
    "Fail = range(50)\n",
    "Pass = range(50,60)\n",
    "Good = range(60,75)\n",
    "VeryGood = range(75,90)\n",
    "Excellent = range(90,101)\n",
    "if vote in Fail:\n",
    "    print(f'Fail vote: {vote}')\n",
    "elif vote in Pass:\n",
    "    print(f'Pass vote: {vote}')\n",
    "elif vote in Good:\n",
    "    print(f'Good vote: {vote}')\n",
    "elif vote in VeryGood:\n",
    "    print(f'Very Good vote: {vote}')\n",
    "elif vote in Excellent:\n",
    "    print(f'Excellent vote: {vote}')\n",
    "else:\n",
    "    print(f'Voto fuori range: {vote}')\n"
   ]
  },
  {
   "cell_type": "code",
   "execution_count": 77,
   "metadata": {},
   "outputs": [
    {
     "name": "stdout",
     "output_type": "stream",
     "text": [
      "Data set number2 is larger than data set number1\n"
     ]
    }
   ],
   "source": [
    "number1 = int(input('Insert number in data set 1'))\n",
    "number2 = int(input('Insert number in data set 2'))\n",
    "if number1 > number2:\n",
    "    print('Data set number1 is larger than data set number2')\n",
    "if number2 > number1:\n",
    "    print('Data set number2 is larger than data set number1')\n",
    "if number1 == number2:\n",
    "    print('Data sets number1 and number2 are equal')"
   ]
  },
  {
   "cell_type": "code",
   "execution_count": 79,
   "metadata": {},
   "outputs": [],
   "source": [
    "import random"
   ]
  },
  {
   "cell_type": "code",
   "execution_count": 110,
   "metadata": {},
   "outputs": [
    {
     "name": "stdout",
     "output_type": "stream",
     "text": [
      "Player A scored 326\n",
      "Player B scored 307\n",
      "In the simulation, Player A scored more than Player B\n"
     ]
    }
   ],
   "source": [
    "import random\n",
    "scoreA = random.randint(300,400)\n",
    "scoreB = random.randint(300,400)\n",
    "print(f'Player A scored {scoreA}')\n",
    "print(f'Player B scored {scoreB}')\n",
    "if scoreA > scoreB:\n",
    "    print('In the simulation, Player A scored more than Player B')\n",
    "elif scoreB > scoreA:\n",
    "    print('In the simulation, Player B scored more than Player A')\n",
    "elif scoreA == scoreB:\n",
    "    print('In the simulation, Player A and Player B have the same score')\n",
    "    "
   ]
  },
  {
   "cell_type": "code",
   "execution_count": 115,
   "metadata": {},
   "outputs": [
    {
     "name": "stdout",
     "output_type": "stream",
     "text": [
      "The asset is 5000, the debt is 3000\n",
      "The value of your assets is greater than the absolute value of your debts.\n"
     ]
    }
   ],
   "source": [
    "asset = 5000\n",
    "debt = -3000\n",
    "absolute = abs(debt)\n",
    "print(f'The asset is {asset}, the debt is {absolute}')\n",
    "if asset > absolute:\n",
    "    print('The value of your assets is greater than the absolute value of your debts.')\n",
    "elif absolute > asset:\n",
    "    print('The absolute value of your debts is greater than the value of your assets.')\n",
    "else:\n",
    "    print('The value of your assets equals the absolute value of your debts.')"
   ]
  },
  {
   "cell_type": "code",
   "execution_count": 121,
   "metadata": {},
   "outputs": [],
   "source": [
    "age = int(input('Select your age please'))\n",
    "if 13 <= age <= 19:\n",
    "    print('You are teenager')\n",
    "elif age > 19: \n",
    "    print('You are an adult')"
   ]
  },
  {
   "cell_type": "code",
   "execution_count": 126,
   "metadata": {},
   "outputs": [
    {
     "name": "stdout",
     "output_type": "stream",
     "text": [
      "Welcome, Alex from Napoli!\n"
     ]
    }
   ],
   "source": [
    "name = input('What\\'s your name?')\n",
    "city = input('What\\'s your city?')\n",
    "saluto = f'Welcome, {name} from {city}!'\n",
    "print(saluto)"
   ]
  },
  {
   "cell_type": "code",
   "execution_count": 134,
   "metadata": {},
   "outputs": [
    {
     "name": "stdout",
     "output_type": "stream",
     "text": [
      "False\n"
     ]
    }
   ],
   "source": [
    "password = input('Select your password')\n",
    "if len(password) >= 8:\n",
    "    is_valid = True\n",
    "else:\n",
    "    is_valid = False\n",
    "print(is_valid)"
   ]
  },
  {
   "cell_type": "code",
   "execution_count": 138,
   "metadata": {},
   "outputs": [
    {
     "name": "stdout",
     "output_type": "stream",
     "text": [
      "No transaction.\n"
     ]
    }
   ],
   "source": [
    "amount = float(input('Enter the transaction amount, please'))\n",
    "if amount > 0:\n",
    "    print('This is a deposit.')\n",
    "elif amount < 0:\n",
    "    print('This is a withdrawal.')\n",
    "elif amount == 0:\n",
    "    print('No transaction.')\n"
   ]
  },
  {
   "cell_type": "code",
   "execution_count": 142,
   "metadata": {},
   "outputs": [
    {
     "name": "stdout",
     "output_type": "stream",
     "text": [
      "Equal\n"
     ]
    }
   ],
   "source": [
    "h1 = float(input('Insert the height'))\n",
    "h2 = float(input('Insert the height'))\n",
    "\n",
    "if h1 < h2:\n",
    "    print('The second mountain is higher')\n",
    "elif h1 > h2:\n",
    "    print('The first mountain is higher')\n",
    "else:\n",
    "    print('Equal')\n"
   ]
  },
  {
   "cell_type": "code",
   "execution_count": 145,
   "metadata": {},
   "outputs": [
    {
     "name": "stdout",
     "output_type": "stream",
     "text": [
      "Total amount: 135.84 is odd\n"
     ]
    }
   ],
   "source": [
    "a = float(input('Amount from customer 1:'))\n",
    "b = float(input('Amount from customer 2:'))\n",
    "c = float(input('Amount from customer 3:'))\n",
    "total = a + b + c\n",
    "if total % 2 == 0:\n",
    "    print(f'Total amount: {total} is even')\n",
    "else:\n",
    "    print(f'Total amount: {total} is odd')"
   ]
  },
  {
   "cell_type": "code",
   "execution_count": 157,
   "metadata": {},
   "outputs": [
    {
     "name": "stdout",
     "output_type": "stream",
     "text": [
      "f is consonant\n"
     ]
    }
   ],
   "source": [
    "letter = input('Select a letter')\n",
    "if letter in 'aeiouAEIOU':\n",
    "    print(f'{letter} is vowel')\n",
    "else:\n",
    "    print(f'{letter} is consonant')"
   ]
  },
  {
   "cell_type": "code",
   "execution_count": 160,
   "metadata": {},
   "outputs": [
    {
     "name": "stdout",
     "output_type": "stream",
     "text": [
      "The temperature fell\n"
     ]
    }
   ],
   "source": [
    "temp_day1 = float(input('Select temperature in Celsius'))\n",
    "temp_day2 = float(input('Select temperature in Celsius'))\n",
    "temp_change = temp_day2 - temp_day1\n",
    "if temp_change > 0:\n",
    "    print('The temperature rose')\n",
    "elif temp_change == 0:\n",
    "    print('The temperature remained the same')\n",
    "else:\n",
    "    print('The temperature fell')"
   ]
  },
  {
   "cell_type": "code",
   "execution_count": 167,
   "metadata": {},
   "outputs": [
    {
     "name": "stdout",
     "output_type": "stream",
     "text": [
      "The number selected is 110 is divisible by both 5 and 11\n"
     ]
    }
   ],
   "source": [
    "number = int(input('Select a number and we check if it is divisible by both 5 and 11'))\n",
    "if number % 5 == 0 and number % 11 == 0:\n",
    "    print(f'The number selected is {number} is divisible by both 5 and 11')\n",
    "else:\n",
    "    print(f'Number chosen: {number} is not divisible by both 5 and 11')"
   ]
  },
  {
   "cell_type": "code",
   "execution_count": null,
   "metadata": {},
   "outputs": [],
   "source": [
    "letter = input('Select a letter')\n",
    "if letter in 'aeiouAEIOU':\n",
    "    print(f'{letter} is vowel')\n",
    "else:\n",
    "    print(f'{letter} is consonant')\n",
    "\n",
    "temp_day1 = float(input('Select temperature in Celsius'))\n",
    "temp_day2 = float(input('Select temperature in Celsius'))\n",
    "temp_change = temp_day2 - temp_day1\n",
    "if temp_change > 0:\n",
    "    print('The temperature rose')\n",
    "elif temp_change == 0:\n",
    "    print('The temperature remained the same')\n",
    "else:\n",
    "    print('The temperature fell')\n",
    "\n",
    "number = int(input('Select a number and we check if it is divisible by both 5 and 11'))\n",
    "if number % 5 == 0 and number % 11 == 0:\n",
    "    print(f'The number selected is {number}')\n",
    "else:\n",
    "    print(f'Number chosen: {number} is not divisible by both 5 and 11')\n",
    "    "
   ]
  },
  {
   "cell_type": "code",
   "execution_count": 168,
   "metadata": {},
   "outputs": [
    {
     "name": "stdout",
     "output_type": "stream",
     "text": [
      "*\n",
      "***\n",
      "*****\n"
     ]
    }
   ],
   "source": [
    "for i in range(6):\n",
    "    if i % 2 == 0:\n",
    "        continue\n",
    "    print('*' * i)\n"
   ]
  },
  {
   "cell_type": "code",
   "execution_count": 188,
   "metadata": {},
   "outputs": [
    {
     "name": "stdout",
     "output_type": "stream",
     "text": [
      "It's time to COFFEE BREAK!\n"
     ]
    }
   ],
   "source": [
    "activities = ['Play PS5','Walk','Gym','COFFEE BREAK','Read']\n",
    "for i in activities:\n",
    "    if i == 'COFFEE BREAK':\n",
    "        print(f'It\\'s time to {i}!')\n",
    "        break \n",
    "        "
   ]
  },
  {
   "cell_type": "code",
   "execution_count": 219,
   "metadata": {},
   "outputs": [
    {
     "name": "stdout",
     "output_type": "stream",
     "text": [
      "*\n",
      "**\n",
      "***\n",
      "****\n",
      "*****\n"
     ]
    }
   ],
   "source": [
    "i = 1\n",
    "while i <= 5:\n",
    "    print('*' * i)\n",
    "    i += 1"
   ]
  },
  {
   "cell_type": "code",
   "execution_count": 220,
   "metadata": {},
   "outputs": [
    {
     "name": "stdout",
     "output_type": "stream",
     "text": [
      "*\n",
      "***\n",
      "*****\n"
     ]
    }
   ],
   "source": [
    "for i in range(6):\n",
    "    if i % 2 == 0:\n",
    "        continue\n",
    "    print('*' * i)"
   ]
  },
  {
   "cell_type": "code",
   "execution_count": 224,
   "metadata": {},
   "outputs": [
    {
     "name": "stdout",
     "output_type": "stream",
     "text": [
      "lion\n",
      "cat\n",
      "koala\n",
      "fish\n",
      "dog\n",
      "tiger\n",
      "bear\n",
      "elephant\n",
      "lion\n",
      "The animal is: koala and the habitat is:  land\n"
     ]
    }
   ],
   "source": [
    "list1 = ['lion','cat','koala']\n",
    "tuple1 =('fish','dog','tiger')\n",
    "set1 = {'bear','lion','elephant'}\n",
    "dict1 = {'fish':'water','koala':'land',}\n",
    "\n",
    "for a in list1:\n",
    "    print(a)\n",
    "\n",
    "for a in tuple1:\n",
    "    print(a)\n",
    "\n",
    "for a in set1:\n",
    "    print(a)\n",
    "\n",
    "for a, h in dict1.items():\n",
    "    if h == 'land':\n",
    "        print(f'The animal is: {a} and the habitat is:  {h}')\n",
    "  "
   ]
  },
  {
   "cell_type": "code",
   "execution_count": 9,
   "metadata": {},
   "outputs": [
    {
     "name": "stdout",
     "output_type": "stream",
     "text": [
      "3\n",
      "3\n",
      "3\n",
      "3\n",
      "cat\n",
      "lion\n",
      "4\n",
      "['cat', 'rabbit', 'fish']\n",
      "('lion', 'rabbit', 'bird')\n",
      "['cat', 'rabbit', 'fish', 'monkey']\n",
      "['cat', 'fish', 'monkey']\n",
      "{'lion': 4, 'elephant': 4, 'fish': 0}\n"
     ]
    }
   ],
   "source": [
    "list1 = ['cat', 'dog', 'fish']\n",
    "tuple1 = ('lion', 'elephant', 'bird')\n",
    "set1 = {'tiger', 'bear', 'deer'}\n",
    "dict1 = {'lion': 4, 'elephant': 4, 'fish': 4}\n",
    "\n",
    "print(len(list1))\n",
    "print(len(tuple1))\n",
    "print(len(set1))\n",
    "print(len(dict1))\n",
    "\n",
    "print(list1[0])\n",
    "print(tuple1[0])\n",
    "print(dict1['lion'])\n",
    "list1[1] = 'rabbit'\n",
    "print(list1)\n",
    "#creiamo una variabile tuple2 nuova che contiene gli elementi tuple1 ma in formato lista per poter applicare modifiche\n",
    "#dopo averla creata e fatto le modifiche, imponiamo che la variabile tuple1 ora è uguale al contenuto di tuple2 ma in fomrato\n",
    "#tuple un'altra volta e poi stampiano gli elementi aggiornati in tuple1\n",
    "tuple2 = list(tuple1)\n",
    "tuple2[1] = 'rabbit'\n",
    "tuple1 = tuple(tuple2)\n",
    "print(tuple1)\n",
    "list1.append('monkey')\n",
    "print(list1)\n",
    "list1.remove('rabbit')\n",
    "print(list1)\n",
    "dict1['fish'] = 0\n",
    "print(dict1)"
   ]
  },
  {
   "cell_type": "code",
   "execution_count": 21,
   "metadata": {},
   "outputs": [
    {
     "name": "stdout",
     "output_type": "stream",
     "text": [
      "anna ha lunghezza pari\n",
      "marco ha lunghezza dispari\n",
      "luca ha lunghezza pari\n",
      "edoardo ha lunghezza dispari\n"
     ]
    }
   ],
   "source": [
    "stringhe = ('anna','marco','luca','edoardo')\n",
    "for name in stringhe:\n",
    "    if len(name) % 2 == 0:\n",
    "        print(f'{name} ha lunghezza pari')\n",
    "    else:\n",
    "        print(f'{name} ha lunghezza dispari')\n",
    "\n",
    "  "
   ]
  },
  {
   "cell_type": "code",
   "execution_count": 31,
   "metadata": {},
   "outputs": [],
   "source": [
    "def contavocali(frase):\n",
    "    var = 0\n",
    "    for i in frase:\n",
    "        if i in 'aeiouAEIOU':\n",
    "            var += 1 \n",
    "    return var\n",
    "            \n"
   ]
  },
  {
   "cell_type": "code",
   "execution_count": 33,
   "metadata": {},
   "outputs": [
    {
     "name": "stdout",
     "output_type": "stream",
     "text": [
      "3\n"
     ]
    }
   ],
   "source": [
    "count = contavocali(frase= 'melablu')\n",
    "print(count)"
   ]
  },
  {
   "cell_type": "code",
   "execution_count": 36,
   "metadata": {},
   "outputs": [
    {
     "data": {
      "text/plain": [
       "{'nome': 'Mario', 'cognome': 'Rossi'}"
      ]
     },
     "execution_count": 36,
     "metadata": {},
     "output_type": "execute_result"
    }
   ],
   "source": [
    "utente = {}\n",
    "utente['nome'] = 'Mario'\n",
    "utente['cognome'] = 'Rossi'\n",
    "utente"
   ]
  },
  {
   "cell_type": "code",
   "execution_count": 47,
   "metadata": {},
   "outputs": [],
   "source": [
    "stringa = 'il cielo è sempre più blu'\n",
    "def count_word(word):\n",
    "    counter = {}\n",
    "    word = word.replace(' ','')\n",
    "    for i in word:\n",
    "        if not i in counter:\n",
    "            counter[i] = 1\n",
    "        else:\n",
    "            counter[i] +=1 \n",
    "    return counter\n",
    "\n",
    "\n",
    "        \n"
   ]
  },
  {
   "cell_type": "code",
   "execution_count": 48,
   "metadata": {},
   "outputs": [
    {
     "name": "stdout",
     "output_type": "stream",
     "text": [
      "{'a': 1, 'l': 3, 'b': 2, 'e': 2, 'r': 1, 'o': 2}\n"
     ]
    }
   ],
   "source": [
    "x = count_word('alberobello')\n",
    "print(x)"
   ]
  },
  {
   "cell_type": "code",
   "execution_count": 49,
   "metadata": {},
   "outputs": [],
   "source": [
    "frase = 'guarda come dondolo'"
   ]
  },
  {
   "cell_type": "code",
   "execution_count": 59,
   "metadata": {},
   "outputs": [
    {
     "name": "stdout",
     "output_type": "stream",
     "text": [
      "g\n",
      "fine step\n",
      "u\n",
      "fine step\n",
      "a\n",
      "fine step\n",
      "r\n",
      "fine step\n",
      "d\n",
      "fine step\n",
      "a\n",
      "fine step\n",
      " \n",
      "fine step\n",
      "c\n",
      "fine step\n",
      "o\n",
      "fine step\n",
      "m\n",
      "fine step\n",
      "e\n",
      "fine step\n",
      " \n",
      "fine step\n",
      "d\n",
      "fine step\n",
      "o\n",
      "fine step\n",
      "n\n",
      "fine step\n",
      "d\n",
      "fine step\n",
      "o\n",
      "fine step\n",
      "l\n",
      "fine step\n",
      "o\n",
      "fine step\n"
     ]
    }
   ],
   "source": [
    "for lettera in frase:\n",
    "    print(lettera)\n",
    "    print('fine step')"
   ]
  },
  {
   "cell_type": "code",
   "execution_count": null,
   "metadata": {},
   "outputs": [],
   "source": [
    "#funzione che prende \n",
    "# input una lista e restituisce lista \n",
    "# senza duplicati\n"
   ]
  },
  {
   "cell_type": "code",
   "execution_count": 5,
   "metadata": {},
   "outputs": [
    {
     "name": "stdout",
     "output_type": "stream",
     "text": [
      "[1, 2, 2, 3, 4, 4, 5]\n"
     ]
    }
   ],
   "source": [
    "lista = [1,2,2,3,4,4,5]\n",
    "print(lista)\n"
   ]
  },
  {
   "cell_type": "code",
   "execution_count": 6,
   "metadata": {},
   "outputs": [],
   "source": [
    "def senza_duplicati(word):\n",
    "    noduplicati = []\n",
    "    for i in word:\n",
    "        if not i in noduplicati:\n",
    "            noduplicati.append(i)\n",
    "    return noduplicati\n",
    "x = senza_duplicati(lista)  \n",
    "     \n"
   ]
  },
  {
   "cell_type": "code",
   "execution_count": null,
   "metadata": {},
   "outputs": [
    {
     "name": "stdout",
     "output_type": "stream",
     "text": [
      "{1, 2, 3, 4}\n"
     ]
    },
    {
     "data": {
      "text/plain": [
       "True"
      ]
     },
     "execution_count": 475,
     "metadata": {},
     "output_type": "execute_result"
    }
   ],
   "source": [
    "x = {1,2,3}\n",
    "x.add(4)\n",
    "print(x)\n"
   ]
  },
  {
   "cell_type": "code",
   "execution_count": 483,
   "metadata": {},
   "outputs": [
    {
     "name": "stdout",
     "output_type": "stream",
     "text": [
      "y\n"
     ]
    }
   ],
   "source": [
    "risposta = input('ti è simpatico Donald Trump? (y/n) ')\n",
    "print(risposta)\n"
   ]
  },
  {
   "cell_type": "code",
   "execution_count": null,
   "metadata": {},
   "outputs": [],
   "source": [
    "#creiamo funzione che controlla se è si o no "
   ]
  },
  {
   "cell_type": "code",
   "execution_count": 529,
   "metadata": {},
   "outputs": [],
   "source": [
    "def is_valid(answer):\n",
    "    is_yes = answer == 'y'\n",
    "    is_no = answer == 'n'\n",
    "    if is_yes or is_no:\n",
    "        return True\n",
    "    return False"
   ]
  },
  {
   "cell_type": "code",
   "execution_count": 533,
   "metadata": {},
   "outputs": [],
   "source": [
    "def ask_question(question):\n",
    "    answer = input(question)\n",
    "    if not is_valid(answer):\n",
    "        print('invalid answer')\n",
    "\n",
    "        return ask_question(question)\n",
    "    else: \n",
    "        return answer"
   ]
  },
  {
   "cell_type": "code",
   "execution_count": 531,
   "metadata": {},
   "outputs": [],
   "source": [
    "domanda = 'Ti piace la mela?'\n"
   ]
  },
  {
   "cell_type": "code",
   "execution_count": 534,
   "metadata": {},
   "outputs": [
    {
     "name": "stdout",
     "output_type": "stream",
     "text": [
      "invalid answer\n",
      "y\n"
     ]
    }
   ],
   "source": [
    "print(ask_question(domanda))"
   ]
  },
  {
   "cell_type": "code",
   "execution_count": null,
   "metadata": {},
   "outputs": [],
   "source": [
    "#crea programma quiz se risposta è vera y/n"
   ]
  },
  {
   "cell_type": "code",
   "execution_count": 571,
   "metadata": {},
   "outputs": [],
   "source": [
    "vere = ['Roma è in Italia', \"Le mele sono buone\", \"Le carote sono arancioni\"]\n",
    "false = ['Parigi è economica', 'A Napoli si mangia male', 'La reggaeton è bella']"
   ]
  },
  {
   "cell_type": "code",
   "execution_count": null,
   "metadata": {},
   "outputs": [],
   "source": [
    "import random \n"
   ]
  },
  {
   "cell_type": "code",
   "execution_count": 572,
   "metadata": {},
   "outputs": [],
   "source": [
    "def quiz(vere, false):\n",
    "    true_and_false_question = vere + false\n",
    "    domanda = random.choice(true_and_false_question)\n",
    "    risposta = ask_question(domanda)\n",
    "    indovinate = 0\n",
    "    non_indovinate = 0\n",
    "    if risposta in vere and domanda in vere:\n",
    "        indovinate += 1 \n",
    "    elif risposta in false and domanda in false:\n",
    "        non_indovinate += 1 \n",
    "     \n",
    "\n",
    "    "
   ]
  },
  {
   "cell_type": "code",
   "execution_count": 569,
   "metadata": {},
   "outputs": [
    {
     "name": "stdout",
     "output_type": "stream",
     "text": [
      "4\n"
     ]
    }
   ],
   "source": [
    "import random\n",
    "print(random.randint(1,10))"
   ]
  },
  {
   "cell_type": "code",
   "execution_count": null,
   "metadata": {},
   "outputs": [
    {
     "name": "stdout",
     "output_type": "stream",
     "text": [
      "150.0\n"
     ]
    }
   ],
   "source": [
    "def conversion_rate(visite, acquisti):\n",
    "    if visite == 0:\n",
    "        print('Le visite non possono essere 0')\n",
    "    conversion_rate = (acquisti / visite) * 100 \n",
    "    \n",
    "    return conversion_rate\n",
    "x = conversion_rate(200, 300)\n",
    "print(x)"
   ]
  },
  {
   "cell_type": "code",
   "execution_count": 69,
   "metadata": {},
   "outputs": [
    {
     "name": "stdout",
     "output_type": "stream",
     "text": [
      "Numero: 3 è dispari\n"
     ]
    }
   ],
   "source": [
    "def pari_dispari(numero = 'inserisci numero'):\n",
    "    if numero % 2 == 0:\n",
    "        print(f'Numero: {numero} è pari')\n",
    "    else:\n",
    "        print(f'Numero: {numero} è dispari')\n",
    "pari_dispari(3)\n"
   ]
  },
  {
   "cell_type": "code",
   "execution_count": 71,
   "metadata": {},
   "outputs": [],
   "source": [
    "sospettato2 = ['Alex',False,'uomo','lunghi']"
   ]
  },
  {
   "cell_type": "code",
   "execution_count": 93,
   "metadata": {},
   "outputs": [
    {
     "data": {
      "text/plain": [
       "True"
      ]
     },
     "execution_count": 93,
     "metadata": {},
     "output_type": "execute_result"
    }
   ],
   "source": [
    "def non_alibi(sospettato):\n",
    "    return not sospettato[1] == True\n",
    "\n",
    "def lunghi_capelli(lunghiono):\n",
    "    return sospettato[3] == 'lunghi'\n",
    "\n",
    "def nome(sospettato):\n",
    "    return sospettato[0] == 'Alex'\n",
    "\n",
    "non_alibi(sospettato2)\n"
   ]
  },
  {
   "cell_type": "code",
   "execution_count": 95,
   "metadata": {},
   "outputs": [
    {
     "name": "stdout",
     "output_type": "stream",
     "text": [
      "95\n",
      "8\n",
      "Il numero scelto è vicino di -3 massimo\n"
     ]
    }
   ],
   "source": [
    "import random\n",
    "numero_da_indovinare = random.randint(1,100)\n",
    "pensiero = int(input('A che numero pensi?'))\n",
    "print(numero_da_indovinare)\n",
    "print(pensiero)\n",
    "if pensiero == numero_da_indovinare:\n",
    "    print(f'{numero_da_indovinare} è il numero che hai pensato, ed è esatto')\n",
    "elif numero_da_indovinare >= pensiero -3 :\n",
    "    print('Il numero scelto è vicino di -3 massimo')\n",
    "elif numero_da_indovinare <= pensiero +3 :\n",
    "    print('Il numero scelto è vicino di +2 massimo')\n"
   ]
  },
  {
   "cell_type": "code",
   "execution_count": 100,
   "metadata": {},
   "outputs": [
    {
     "name": "stdout",
     "output_type": "stream",
     "text": [
      "5\n",
      "5\n",
      "Hai indovinato, il numero che avevo pensato è 5 e la distanza dei numeri vicino il numero pensato è 0\n"
     ]
    }
   ],
   "source": [
    "import random\n",
    "numero_da_indovinare = random.randint(1,5)\n",
    "numero_scelto = int(input('Scegli numero da 1 a 30'))\n",
    "distanza = abs(numero_da_indovinare - numero_scelto)\n",
    "print(numero_scelto)\n",
    "print(numero_da_indovinare)\n",
    "if numero_scelto == numero_da_indovinare and distanza == 0:\n",
    "    print(f'Hai indovinato, il numero che avevo pensato è {numero_da_indovinare} e la distanza dei numeri vicino il numero pensato è {distanza}')\n",
    "          \n",
    "elif numero_scelto != numero_da_indovinare and distanza != 0:\n",
    "    print(f'Hai sbagliato, il numero che avevo pensato è {numero_da_indovinare} e la distanza dei numeri vicino il numero pensato è {distanza}')\n"
   ]
  },
  {
   "cell_type": "code",
   "execution_count": 3,
   "metadata": {},
   "outputs": [
    {
     "data": {
      "text/plain": [
       "'Good bye Alex'"
      ]
     },
     "execution_count": 3,
     "metadata": {},
     "output_type": "execute_result"
    }
   ],
   "source": [
    "def goodbye(namme):\n",
    "    return f'Good bye {namme}'\n",
    "goodbye('Alex')"
   ]
  },
  {
   "cell_type": "code",
   "execution_count": 27,
   "metadata": {},
   "outputs": [
    {
     "data": {
      "text/plain": [
       "'Alex Doe'"
      ]
     },
     "execution_count": 27,
     "metadata": {},
     "output_type": "execute_result"
    }
   ],
   "source": [
    "def greet(name, surname):\n",
    "    return f'{name} {surname}'\n",
    "greet('Alex', 'Doe')"
   ]
  },
  {
   "cell_type": "code",
   "execution_count": 28,
   "metadata": {},
   "outputs": [
    {
     "name": "stdout",
     "output_type": "stream",
     "text": [
      "Mary Doe\n",
      "David Jr Doe\n"
     ]
    }
   ],
   "source": [
    "family = [('Mary', 'Doe'), ('David Jr', 'Doe')]\n",
    "\n",
    "for name, surname in family:\n",
    "    final_greet = greet(name, surname)\n",
    "    print(final_greet)\n"
   ]
  },
  {
   "cell_type": "code",
   "execution_count": 53,
   "metadata": {},
   "outputs": [
    {
     "data": {
      "text/plain": [
       "[]"
      ]
     },
     "execution_count": 53,
     "metadata": {},
     "output_type": "execute_result"
    }
   ],
   "source": [
    "import random\n",
    "def random_list_summer(n):\n",
    "    list_comprehension = []\n",
    "    number_chosen = range(n)\n",
    "    casually = random.randint(-100,100)\n",
    "    for number in number_chosen:\n",
    "        if casually in list_comprehension:\n",
    "            list_comprehension.append(casually)\n",
    "        return list_comprehension\n",
    "        \n",
    "    somma = sum(list_comprehension)\n",
    "    print(f'la somma della lista è: {somma}')\n",
    "    print(f'la lista è: {list_comprehension}')\n",
    "random_list_summer(15)"
   ]
  },
  {
   "cell_type": "code",
   "execution_count": 93,
   "metadata": {},
   "outputs": [
    {
     "name": "stdout",
     "output_type": "stream",
     "text": [
      "-411\n",
      "[-17, -81, 17, 53, -29, -40, 48, -81, -59, -76, -19, -34, 3, -94, -2]\n"
     ]
    }
   ],
   "source": [
    "import random \n",
    "def random_list_summer(n):\n",
    "    list_comprehension = []\n",
    "    for n in range(n):\n",
    "        number = random.randint(-100,100)\n",
    "        list_comprehension.append(number)\n",
    "    summary = sum(list_comprehension)\n",
    "    return summary, list_comprehension\n",
    "    print(summary)\n",
    "    print(list_comprehension)\n",
    "random_list_summer(15)\n",
    "summary, list_comprehension = random_list_summer(15)\n",
    "print(summary)\n",
    "print(list_comprehension)"
   ]
  }
 ],
 "metadata": {
  "kernelspec": {
   "display_name": ".venv",
   "language": "python",
   "name": "python3"
  },
  "language_info": {
   "codemirror_mode": {
    "name": "ipython",
    "version": 3
   },
   "file_extension": ".py",
   "mimetype": "text/x-python",
   "name": "python",
   "nbconvert_exporter": "python",
   "pygments_lexer": "ipython3",
   "version": "3.13.0"
  }
 },
 "nbformat": 4,
 "nbformat_minor": 2
}
